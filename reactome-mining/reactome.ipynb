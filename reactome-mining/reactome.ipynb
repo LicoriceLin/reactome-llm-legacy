{
 "cells": [
  {
   "cell_type": "markdown",
   "metadata": {},
   "source": [
    "demo to inspect the content of reactome database \n",
    "the conda yaml contains redundant package.\n",
    "install py2neo "
   ]
  },
  {
   "cell_type": "code",
   "execution_count": 1,
   "metadata": {},
   "outputs": [],
   "source": [
    "import os\n",
    "from py2neo import  Graph\n",
    "import pandas as pd\n",
    "import numpy as np\n",
    "import pprint\n",
    "import itertools\n",
    "pp = pprint.PrettyPrinter(indent=4)\n",
    "uri = \"bolt://localhost:7687\"\n",
    "graph = Graph(uri, auth=('neo4j', 'test'))"
   ]
  },
  {
   "cell_type": "code",
   "execution_count": 65,
   "metadata": {},
   "outputs": [
    {
     "data": {
      "text/plain": [
       "('Mapping the proximity interaction network of the Rho-family GTPases reveals signalling pathways and regulatory mechanisms',\n",
       " 31871319,\n",
       " 46,\n",
       " '[9696266, 8981637, 9013009, 9013004, 8980691, 9696268, 9013110, 9013111, 9714361, 9018778]...')"
      ]
     },
     "execution_count": 65,
     "metadata": {},
     "output_type": "execute_result"
    }
   ],
   "source": [
    "#get 'highly involved literatures' in reactome\n",
    "query='''\n",
    "MATCH (lr:LiteratureReference)<-[:literatureReference]-(rle:ReactionLikeEvent {speciesName: 'Homo sapiens'})\n",
    "WITH lr, COUNT(rle) AS reactionCount, COLLECT(DISTINCT rle.dbId) AS reaction_db_ids\n",
    "RETURN\n",
    " lr.displayName AS literature_display_name,\n",
    " lr.pubMedIdentifier AS pubMedIdentifier,\n",
    " reactionCount AS reaction_count,\n",
    " reaction_db_ids\n",
    "ORDER BY reactionCount DESC\n",
    "LIMIT 25\n",
    "'''\n",
    "files=graph.run(query).data()\n",
    "files[0]['literature_display_name'],files[0]['pubMedIdentifier'],files[0]['reaction_count'],f\"{files[0]['reaction_db_ids'][:10]}...\""
   ]
  },
  {
   "cell_type": "code",
   "execution_count": 4,
   "metadata": {},
   "outputs": [],
   "source": [
    "# get the linked ReactionLikeEvent for the 'top relevant literature'\n",
    "pmid=files[0]['pubMedIdentifier']\n",
    "query='''\n",
    "MATCH (lr:LiteratureReference)<-[:literatureReference]-(rle:ReactionLikeEvent)\n",
    "WHERE lr.pubMedIdentifier={pmid} and rle.speciesName='Homo sapiens'\n",
    "RETURN\n",
    "rle.dbId AS id\n",
    "'''\n",
    "ids=[i['id'] for i in  graph.run(query.format(pmid=pmid)).data()]"
   ]
  },
  {
   "cell_type": "code",
   "execution_count": 26,
   "metadata": {},
   "outputs": [
    {
     "name": "stdout",
     "output_type": "stream",
     "text": [
      "(RND2 effectors [cytosol] + RND2:GTP [plasma membrane]) --RND2 binds effectors--> (RND2:GTP:RND2 effectors [plasma membrane])\n",
      "Active GTP bound RND2 binds the following effectors:<br>ARHGAP5 (Wennerberg et al. 2003; Bagi et al. 2020)<br>FNBP1 (Fujita et al. 2002; Kakimoto et al. 2004; Bagci et al. 2020)<br>FRS2 (Harada et al. 2005)<br>FRS3 (Harada et al. 2005)<br>KCTD13 (Gladwyn Ng et al. 2016)<br>PLXND1 (Uesugi et al. 2009)<br>PRAG1 (Tanaka et al. 2006)<br>TNFAIP1 (Gladwyn Ng et al. 2015; Gladwyn Ng et al. 2016)<br>UBXN11 (Katoh et al. 2002)<br><br>RND2 binds to the following candidate effectors reported in the high throughput screen by Bagci et al. 2020 or reported in some but all studies:<br>ALDH3A2 (Bagci et al. 2020)<br>ANKRD26 (Bagci et al. 2020)<br>ARHGAP1 (Bagci et al. 2020)<br>ARHGAP35 (Wennerberg et al. 2003: binding to active RND2; Bagci et al. 2020: no binding to active RND2)<br>CAV1 (Bagci et al. 2020)<br>CKAP4 (Bagci et al. 2020)<br>DEPDC1B (Bagci et al. 2020)<br>DLG5 (Bagci et al. 2020)<br>DSG1 (Bagci et al. 2020)<br>DST (Bagci et al. 2020)<br>EPHA2 (Bagci et al. 2020)<br>FAM83B (Bagci et al. 2020)<br>GOLGA3 (Bagci et al. 2020)<br>KIDINS220 (Bagci et al. 2020)<br>KIF14 (Bagci et al. 2020)<br>KTN1 (Bagci et al. 2020) - while RND2 has not been shown to localize to the endoplasmic reticulum membrane (ER), some isoforms of KTN1 are known to localize to the plasma membrane instead of the ER membrane (Santama et al. 2004)<br>LEMD3 (Bagci et al. 2020)<br>LRRC1 (Bagci et al. 2020)<br>MUC13 (Bagci et al. 2020)<br>NISCH (Bagci et al. 2020)<br>NUDC (Bagci et al. 2020)<br>PIK3R1 (Bagci et al. 2020)<br>PIK3R2 (Bagci et al. 2020)<br>PKP4 (Bagci et al. 2020)<br>PTPN13 (Bagci et al. 2020)<br>RBMX (Bagci et al. 2020)<br>SCRIB (Bagci et al. 2020)<br>TFRC (Bagci et al. 2020)<br>TXNL1 (Bagci et al. 2020)<br>UHRF1BP1L (Bagci et al. 2020)<br>VANGL1 (Bagci et al. 2020)<br>VANGL2 (Bagci et al. 2020)<br>WDR6 (Bagci et al. 2020)<br><br>RND2 does not bind the following effectors:<br>CCDC88A (Bagci et al. 2020)<br>CKB (Bagci et al. 2020)<br>CPD (Bagci et al. 2020)<br>DDX4 (Bagci et al. 2020)<br>DSP (Bagci et al. 2020)<br>EPSTI1 (Bagci et al. 2020)<br>FAM135A (Bagci et al. 2020)<br>FLOT2 (Bagci et al. 2020)<br>GRB7 (Vayssiere et al. 2000)<br>PLEKHG5 (Goh and Manser 2010)<br>PICALM (Bagci et al. 2020)<br>RASAL2 (Bagci et al. 2020)<br>RRAS2 (Bagci et al. 2020)<br>SEMA4F (Bagci et al. 2020)<br>STIP1 (de Souza et al. 2014)<br>STMN2 (Li et al. 2009)<br>TMEM59 (Bagci et al. 2020)<br>TMOD3 (Bagci et al. 2020)\n"
     ]
    }
   ],
   "source": [
    "#get the input - reaction -> out and its summation\n",
    "query='''\n",
    "    MATCH (x:DatabaseObject)<-[y:input|output|summation]-(rle:ReactionLikeEvent)\n",
    "    WHERE rle.dbId={entity} and rle.speciesName='Homo sapiens'\n",
    "    RETURN\n",
    "    x AS entity,\n",
    "    type(y) AS label,\n",
    "    rle.displayName AS subject\n",
    "    '''\n",
    "hit=graph.run(query.format(entity=ids[0])).data()\n",
    "print('('+' + '.join([i['entity']['displayName'] for i in hit if i['label']=='input'])+') --'+hit[0]['subject']+'--> (' + ' + '.join([i['entity']['displayName'] for i in hit if i['label']=='output']) +')')\n",
    "print([i['entity']['text'] for i in hit if i['label']=='summation'][0])"
   ]
  },
  {
   "cell_type": "code",
   "execution_count": 60,
   "metadata": {},
   "outputs": [
    {
     "data": {
      "text/plain": [
       "{'compartment', 'hasCandidate', 'hasMember', 'inferredTo', 'species'}"
      ]
     },
     "execution_count": 60,
     "metadata": {},
     "output_type": "execute_result"
    }
   ],
   "source": [
    "# inspect the abstract_input\n",
    "abstract_input_id=hit[2]['entity']['dbId']\n",
    "query=f'''\n",
    "    MATCH (x:DatabaseObject)-[y]->(z:DatabaseObject)\n",
    "    WHERE x.dbId={abstract_input_id}\n",
    "    RETURN type(y) as typey\n",
    "    '''\n",
    "_=graph.run(query).data()\n",
    "set([i['typey'] for i in _])"
   ]
  },
  {
   "cell_type": "code",
   "execution_count": 62,
   "metadata": {},
   "outputs": [
    {
     "name": "stdout",
     "output_type": "stream",
     "text": [
      "TNFAIP1 [cytosol]\n",
      "FRS2 [plasma membrane]\n",
      "UBXN11 [cytosol]\n",
      "FNBP1 [cytosol]\n",
      "KCTD13 [cytosol]\n",
      "PLXND1 [plasma membrane]\n",
      "PRAG1 [cytosol]\n",
      "FRS3 [plasma membrane]\n",
      "ARHGAP5 [cytosol]\n"
     ]
    }
   ],
   "source": [
    "# check the member\n",
    "query='''\n",
    "    MATCH (x:DatabaseObject)-[y:hasMember]->(z:DatabaseObject)\n",
    "    WHERE x.dbId=9696290\n",
    "    RETURN z\n",
    "    '''\n",
    "for i in graph.run(query):\n",
    "    print(i['z']['displayName'])"
   ]
  }
 ],
 "metadata": {
  "kernelspec": {
   "display_name": "parsepaper",
   "language": "python",
   "name": "python3"
  },
  "language_info": {
   "codemirror_mode": {
    "name": "ipython",
    "version": 3
   },
   "file_extension": ".py",
   "mimetype": "text/x-python",
   "name": "python",
   "nbconvert_exporter": "python",
   "pygments_lexer": "ipython3",
   "version": "3.10.13"
  }
 },
 "nbformat": 4,
 "nbformat_minor": 2
}
