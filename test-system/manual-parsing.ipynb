{
 "cells": [
  {
   "cell_type": "code",
   "execution_count": 1,
   "metadata": {},
   "outputs": [],
   "source": [
    "m_dict={}\n",
    "def temp(i0:str):\n",
    "    i0=i0.strip()\n",
    "    if i0.endswith('17A') or i0.endswith('15A'):\n",
    "        return i0[:-4]+'_'+i0[-4:]\n",
    "    else:\n",
    "        return i0\n",
    "for i in ['genes','gene_variances','gene_gene_interactions']:\n",
    "    m_dict[i]=[]\n",
    "for i in open('rho_origin.txt','r').readlines():\n",
    "    if 'interacts with' in i:\n",
    "        m_dict['gene_gene_interactions'].append(set([temp(_) for _ in  i.strip().split('interacts with')]))\n",
    "    elif i.startswith('Variant:'):\n",
    "        i_=i.strip('Variant:').strip().strip(',')\n",
    "        m_dict['gene_variances'].append(i_[:-4]+'_'+i_[-4:])\n",
    "    elif i.startswith('Protein:'):\n",
    "        i_=i.strip('Protein:').strip().strip(',')\n",
    "        m_dict['genes'].append(i_)"
   ]
  },
  {
   "cell_type": "code",
   "execution_count": 2,
   "metadata": {},
   "outputs": [],
   "source": [
    "import pickle as pkl"
   ]
  },
  {
   "cell_type": "code",
   "execution_count": 3,
   "metadata": {},
   "outputs": [],
   "source": [
    "with open('rho-standard-extraction.pkl','wb') as f:\n",
    "    pkl.dump(m_dict,f)"
   ]
  }
 ],
 "metadata": {
  "kernelspec": {
   "display_name": "llm",
   "language": "python",
   "name": "python3"
  },
  "language_info": {
   "codemirror_mode": {
    "name": "ipython",
    "version": 3
   },
   "file_extension": ".py",
   "mimetype": "text/x-python",
   "name": "python",
   "nbconvert_exporter": "python",
   "pygments_lexer": "ipython3",
   "version": "3.10.13"
  }
 },
 "nbformat": 4,
 "nbformat_minor": 2
}
