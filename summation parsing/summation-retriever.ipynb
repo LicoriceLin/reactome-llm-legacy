{
 "cells": [
  {
   "cell_type": "markdown",
   "metadata": {},
   "source": [
    "a half-done example to convert summation into mapped sentences in given text"
   ]
  },
  {
   "cell_type": "code",
   "execution_count": 17,
   "metadata": {},
   "outputs": [],
   "source": [
    "from langchain_core.prompts import PromptTemplate\n",
    "from langchain.schema import HumanMessage, SystemMessage, AIMessage\n",
    "from langchain.chat_models import ChatOpenAI\n",
    "from langchain.callbacks import get_openai_callback\n",
    "import logging\n",
    "chat = ChatOpenAI(model='gpt-4-1106-preview',temperature=0)"
   ]
  },
  {
   "cell_type": "code",
   "execution_count": 18,
   "metadata": {},
   "outputs": [],
   "source": [
    "def prompt_refiner(prompt:str): \n",
    "    return chat([HumanMessage(content=f\"\"\"\n",
    "You are a helpful assistant to reformat a poorly structured prompt from the user to ensure an optimal response from ChatGPT.\n",
    "You are supposed to correct any spelling errors and adjust the format to align with standard English conventions.\n",
    "Answer only with the Revised Prompt directly.\n",
    "Prompt from the user: \n",
    "```\n",
    "{prompt}\n",
    "```\n",
    "Revised Prompt:\n",
    "\"\"\")]).content\n"
   ]
  },
  {
   "cell_type": "code",
   "execution_count": 24,
   "metadata": {},
   "outputs": [],
   "source": [
    "def extract_relevant_information_from_summation(summation:str,reference:str):\n",
    "    sm_clean=SystemMessage(content=\"\"\"\n",
    "    You will receive a text containing biological facts along with their corresponding references. Your task is to extract the fact relevant to each given reference. \n",
    "    Your response should only contain the required facts, without repeating the reference, and each fact should be presented on ONE separate, independent line.\n",
    "    \"\"\")\n",
    "    hm_clean=HumanMessage(content=\"\"\" text:\n",
    "    ```\n",
    "    In its GTP bound active form, plasma membrane associated RAC1 binds to the following cytosolic and plasma membrane effectors:\n",
    "    <br>BAIAP2 (Lewis Saravalli et al. 2013, Bagci et al. 2020)<br>CAV1 (Nethe et al. 2010)<br>CDC42BPA (Schwarz et al. 2012)<br>CIT (Bagci et al. 2020)\n",
    "    Active RAC1 does not bind the following RHO GTPase effectors: ANKLE2 (Nethe et al. 2010), ARFGAP3(Bagci et al. 2020), ARMCX3 (Nethe et al. 2010), DSG2 (Nethe et al. 2010)\n",
    "    \n",
    "    ```\n",
    "    reference:\n",
    "    ```\n",
    "    Bagci 2020\n",
    "    ```\n",
    "    \"\"\")\n",
    "    ai_clean=AIMessage(content=\"\"\"\n",
    "    In its GTP bound active form, plasma membrane associated RAC1 binds to the cytosolic and plasma membrane effectors: BAIAP2,CIT.\n",
    "    Active RAC1 does not bind the following RHO GTPase effectors: ARFGAP3\n",
    "    \"\"\")\n",
    "    in_msg=HumanMessage(content=f'text:```{summation}```\\nreference:```{reference}```')\n",
    "    with get_openai_callback() as cb:\n",
    "      information=chat([sm_clean,hm_clean,ai_clean,in_msg])\n",
    "    logging.info(cb.total_cost,stacklevel=2)\n",
    "    return information\n"
   ]
  },
  {
   "cell_type": "code",
   "execution_count": 25,
   "metadata": {},
   "outputs": [
    {
     "name": "stdout",
     "output_type": "stream",
     "text": [
      "In its GTP bound active form, plasma membrane associated RAC1 binds to the following cytosolic and plasma membrane effectors: BAIAP2, CAV1, CYFIP1, PAK2, PAK4, WAVE complex, KIAA0355.\n",
      "The following RAC1 effectors are annotated as candidate effectors either because of opposing finding reported in different studies or because they have only been reported in the high throughput screen by Bagci et al. 2020: ABI1, ABL2, AMIGO2, ARAP2, BAIAP2L1, BRK1, CDC42, CDC42EP1, CDC42EP4, DEPDC1B, DIAPH3, EPHA2, ERBIN, FERMT2, GIT1, GIT2, ITGB1, JAG1, LAMTOR1, MCAM, MPP7, NCKAP1, NHS, PLEKHG3, PLEKHG4, RAB7A, SLC1A5, SNAP23, SWAP70, TAOK3, TFRC, TMPO, VAMP3, VANGL1.\n",
      "Active RAC1 does not bind the following RHO GTPase effectors: ANKLE2, ARFGAP3, ARMCX3, DSG2, DOCK1, DOCK5, ELMO2, HSPE1, IL32, LETM1, LMAN1, NDUFA5, NDUFS3, PGRMC2, RAPGEF1, SHMT2, SLITRK3, SLITRK5, STBD1, STX5, VAPB.\n"
     ]
    }
   ],
   "source": [
    "summation = 'In its GTP bound active form, plasma membrane associated RAC1 binds to the following cytosolic and plasma membrane effectors:<br>BAIAP2 (Lewis Saravalli et al. 2013, Bagci et al. 2020)<br>CAV1 (Nethe et al. 2010, Bagci et al. 2020)<br>CDC42BPA (Schwarz et al. 2012)<br>CIT (Madaule et al. 1995)<br>CIT 3 (Di Cunto et al. 1998)<br>CYFIP1 (Schneck et al. 2003, Bagci et al. 2020)<br>FMNL1 (Yayoshi Yamamoto et al. 2000)<br>IQGAP1 (Kuroda et al. 1996, Pelikan Conchaudron et al. 2011)<br>IQGAP2 (Brill et al. 1996, Ozdemir et al. 2018)<br>IQGAP3 (Wang et al. 2007)<br>KIAA0355 (Bagci et al. 2020: interaction studied in detail)<br>NISCH (Reddig et al. 2005)<br>NOX1 complex (Cheng et al. 2006, Miyano et al. 2006, Kao et al. 2008)<br>NOX2 complex (Ushio Fukai et al. 2002)<br>NOX3 complex (Ueyama et al. 2006, Miyano and Sumimoto 2007, Kao et al. 2008)<br>PAK1 (Parrini et al. 2002)<br>PAK2 (Manser et al. 1994, Manser et al. 1995, Bagci et al. 2020)<br>PAK3 (Manser et al. 1995)<br>PAK4 (Abo et al. 1998, Bagci et al. 2020)<br>PAK5 (Dan et al. 2002)<br>PAK6 (Lee et al. 2002)<br>PARD6A (Qiu et al. 2000)<br>PI3K alpha (Bokoch et at al. 1996, Murga et al. 2002)<br>PKN1 (Owen et al. 2003, Modha et al. 2008)<br>PKN2 (Zong et al. 1999)<br>PLD1 (Hammond et al. 1997)<br>PLD2 (Hiroyama and Exton 2005)<br>WAVE complex (Miki et al. 1998, Suetsugu et al. 2006, Bagci et al. 2020)<br><br>The following RAC1 effectors are annotated as candidate effectors either because of opposing finding reported in different studies or because they have only been reported in the high throughput screen by Bagci et al. 2020:<br>ABI1 (Bagci et al. 2020)<br>ABL2 (Bagci et al. 2020)<br>AMIGO2 (Bagci et al. 2020)<br>ARAP2 (Bagci et al. 2020)<br>BAIAP2L1 (Bagci et al. 2020)<br>BRK1 (Bagci et al. 2020)<br>CDC42 (Bagci et al. 2020)<br>CDC42EP1 (Bagci et al. 2020: binding to activated RAC1; Joberty et al. 1999: no binding to activated RAC1)<br>CDC42EP4 (Bagci et al. 2020: binding to activated RAC1; Joberty et al. 1999: no binding to activated RAC1)<br>DEPDC1B (Bagci et al. 2020)<br>DIAPH3 (Bagci et al. 2020)<br>EPHA2 (Bagci et al. 2020)<br>ERBIN (Bagci et al. 2020)<br>FERMT2 (Bagci et al. 2020)<br>GIT1 (Bagci et al. 2020)<br>GIT2 (Bagci et al. 2020)<br>ITGB1 (Bagci et al. 2020)<br>JAG1 (Bagci et al. 2020)<br>LAMTOR1 (Bagci et al. 2020)<br>MCAM (Bagci et al. 2020)<br>MPP7 (Bagci et al. 2020)<br>NCKAP1 (Bagci et al. 2020)<br>NHS (Bagci et al. 2020)<br>PLEKHG3 (Bagci et al. 2020)<br>PLEKHG4 (Bagci et al. 2020)<br>RAB7A (Bagci et al. 2020)<br>SLC1A5 (Bagci et al. 2020)<br>SNAP23 (Bagci et al. 2020)<br>SWAP70 (Bagci et al. 2020)<br>TAOK3 (Bagci et al. 2020)<br>TFRC (Bagci et al. 2020)<br>TMPO (Bagci et al. 2020)<br>VAMP3 (Bagci et al. 2020)<br>VANGL1 (Bagci et al. 2020)<br>WIP WASP complex (WAS, also known as WASP, a component of the WIP WASP complex, was reported to interact with active RAC1 by Aspenstrom et al. 1996 and Vastrik et al. 1999, but no interaction has been reported between RAC1 and WIP components of the complex, WIPF1, WIPF2 or WIPF3) <br><br>Active RAC1 does not bind the following RHO GTPase effectors: <br>ANKLE2 (Bagci et al. 2020)<br>ARFGAP3 (Bagci et al. 2020)<br>ARMCX3 (Bagci et al. 2020)<br>CDC42EP2 (Joberty et al. 1999)<br>CDC42EP3 (Joberty et al. 1999)<br>CDC42EP5 (Joberty et al. 1999)<br>DSG2 (Bagci et al. 2020)<br>DIAPH1 (Higashi et al. 2008)<br>DOCK1 (Bagci et al. 2020)<br>DOCK5 (Bagci et al. 2020)<br>ELMO2 (Bagci et al. 2020)<br>FMNL2 (Block et al. 2012)<br>HSPE1 (Bagci et al. 2020)<br>IL32 (Bagci et al. 2020)<br>LETM1 (Bagci et al. 2020)<br>LMAN1 (Bagci et al. 2020)<br>NDUFA5 (Bagci et al. 2020)<br>NDUFS3 (Bagci et al. 2020)<br>PGRMC2 (Bagci et al. 2020)<br>RAPGEF1 (Bagci et al. 2020)<br>ROCK1 (Leung et al. 1996)<br>ROCK2 (Leung et al. 1996)<br>RTKN (Reid et al. 1996)<br>SHMT2 (Bagci et al. 2020)<br>SLK (Yamada et al. 2000)<br>SLITRK3 (Bagci et al. 2020)<br>SLITRK5 (Bagci et al. 2020)<br>STBD1 (Bagci et al. 2020)<br>STX5 (Bagci et al. 2020)<br>VAPB (Bagci et al. 2020)'\n",
    "ref='Bagci et al. 2020'\n",
    "print(extract_relevant_information_from_summation(summation,ref).content)"
   ]
  },
  {
   "cell_type": "code",
   "execution_count": 29,
   "metadata": {},
   "outputs": [],
   "source": [
    "def scan_paragraph_for_information_match(paragraph:str,information:str):\n",
    "    sm=SystemMessage(content=(\"You will be provided with a section from biomedical literature. \\n\"\n",
    "                              \"Your task is to identify the sentence in the provided material that contains any portion of the required information. \\n\"\n",
    "                              \"If no sentence is found, only return Null. \\n\"\n",
    "                              \"If multiple sentences are found, return all of them, ranked by similarity, separated by a line break.\\n\"))\n",
    "    hm0=HumanMessage(content=('target sentence:\\n```A is X. B contains C. C loves X. E causes D. a member of B fall in love with A```\\n'\n",
    "                            'required information:\\n```C likes A```\\n'))\n",
    "    am0=AIMessage(content=('C loves X. A is X.\\n'\n",
    "                           'B contains C. a member of B fall in love with A. '))\n",
    "    hm1=HumanMessage(content=('target sentence:\\n```No valid info```\\n'\n",
    "                            'required information:\\n```C likes A```\\n'))\n",
    "    am1=AIMessage(content='Null')\n",
    "    hm=HumanMessage(content=(f'target sentence:\\n```{paragraph}```\\n'\n",
    "                            f'required information:\\n```{information}```\\n'))\n",
    "    with get_openai_callback() as cb:\n",
    "        match_sentence=chat([sm,hm0,am0,hm1,am1,hm])\n",
    "    logging.info(cb.total_cost)\n",
    "    return match_sentence"
   ]
  },
  {
   "cell_type": "code",
   "execution_count": 27,
   "metadata": {},
   "outputs": [
    {
     "name": "stdout",
     "output_type": "stream",
     "text": [
      "RHOAG17A interacted with the RHOAspecific GEFs ARHGEF1 (ref. 25), ARHGEF2 (ref. 26), ARHGEF5 (ref. 27), ARHGEF17 (ref. 28), NGEF29, ECT2 (ref. 30) and AKAP13 (ref.31) (Fig. 2a).\n"
     ]
    }
   ],
   "source": [
    "origin='We compared interactions of nucleotide-free classical Rho proteins (RAC1G15A, RHOGG15A, CDC42G15A and RHOAG17A) and their WT forms (Fig. 2a). In all but one case, the nucleotide-free form interacted with more GEFs than the WT protein. Some GEFs displayed specificity for one of the baits, which recapitulates previous reports as follows. RHOAG17A interacted with the RHOAspecific GEFs ARHGEF1 (ref. 25), ARHGEF2 (ref. 26), ARHGEF5 (ref. 27), ARHGEF17 (ref. 28), NGEF29, ECT2 (ref. 30) and AKAP13 (ref.31) (Fig. 2a). RAC1G15A bound the RAC1-specific GEFs SWAP70 (ref. 32), DOCK1 (refs. 33,34), DOCK4 (ref. 35), DOCK5 (ref. 36) and DOCK6 (ref. 37). Finally, CDC42G15A interacted with the CDC42- specific GEFs DNMBP38, PLEKHG1 (ref. 39), DOCK8 (ref. 40) and DOCK10 (ref. 41) (Fig. 2a). BioID confirmed the reported broad selectivity of some GEFs as follows: VAV2 (ref. 42) for RHOA, RAC1 and CDC42; TRIO43 for RHOA, RAC1 and RHOG; ARHGEF11 (ref.44) for RHOA, RAC1 and CDC42; DOCK7 (ref. 45) for RAC1 and CDC42; ARHGEF7 (ref. 46) for RAC1 and CDC42; FARP1 (ref. 47) for RHOA, RAC1 and CDC42; and BCR48 for RHOA and RAC1 (Fig. 2a). We detected an interaction between CDC42G15A and ARHGEF26, which is believed to be a RHOG-specific GEF. Notably, the initial studies of ARHGEF26 reported activity towards CDC42 (ref. 49). While we found that RHOAG17A interacted with its established GEF ARHGEF12 (ref. 50), an interaction with CDC42G15A was also detected (Fig. 2a), which suggests that it may have broader activity than reported. PLEKHG3 is validated as a RAC1 and CDC42 GEF51, and our BioID data confirmed this specificity, but also revealed binding to RHOA. We experimentally confirmed that PLEKHG3 interacts with nucleotide-free RHOA, which suggests that it is also a RHOA GEF (Fig. 2b). Hence, nucleotide-free Rho baits are effective for uncovering the GEFs that regulate them.'\n",
    "info='RHOAG17A interacts with NGEF29'\n",
    "print(scan_paragraph_for_information_match(origin,info).content)"
   ]
  },
  {
   "cell_type": "code",
   "execution_count": 21,
   "metadata": {},
   "outputs": [],
   "source": [
    "def match_double_checker(match_sentence:str,information:str):\n",
    "    sm=SystemMessage(content=(\"Please analyze the given sentence to determine if it contains any of the required information. \\n\"\n",
    "                \"If the sentence does include the required information, reply with '1'; if it does not, reply with '0'. \\n\"\n",
    "                \"Note that your response will be used as part of a code, so respond with '0' or '1' only.\\n\"))\n",
    "    hm=HumanMessage(content=(f\"given sentence:\\n```{match_sentence}```\\n\"\n",
    "                             f\"required information:\\n```{information}```\\n\"))\n",
    "    with get_openai_callback() as cb:\n",
    "        check=chat([sm,hm])\n",
    "    logging.info(cb.total_cost)\n",
    "    return int(check.content)"
   ]
  },
  {
   "cell_type": "code",
   "execution_count": 28,
   "metadata": {},
   "outputs": [
    {
     "name": "stdout",
     "output_type": "stream",
     "text": [
      "1\n"
     ]
    }
   ],
   "source": [
    "match_sentence='RHOAG17A interacted with the RHOAspecific GEFs ARHGEF1 (ref. 25), ARHGEF2 (ref. 26), ARHGEF5 (ref. 27), ARHGEF17 (ref. 28), NGEF29, ECT2 (ref. 30) and AKAP13 (ref.31) (Fig. 2a).'\n",
    "print(match_double_checker(match_sentence,info))"
   ]
  },
  {
   "cell_type": "code",
   "execution_count": 29,
   "metadata": {},
   "outputs": [
    {
     "name": "stdout",
     "output_type": "stream",
     "text": [
      "0\n"
     ]
    }
   ],
   "source": [
    "match_sentence='RHOAG17A interacted with the RHOAspecific GEFs ARHGEF1 (ref. 25), ARHGEF2 (ref. 26), ARHGEF5 (ref. 27), ARHGEF17 (ref. 28), ECT2 (ref. 30) and AKAP13 (ref.31) (Fig. 2a).' #remove NGEF29\n",
    "print(match_double_checker(match_sentence,info))"
   ]
  },
  {
   "cell_type": "code",
   "execution_count": 31,
   "metadata": {},
   "outputs": [],
   "source": [
    "paragragh=open('test-system/rho_origin.txt').read()\n",
    "summation=open('test-system/summations-31871319.txt').readlines()"
   ]
  },
  {
   "cell_type": "code",
   "execution_count": 33,
   "metadata": {},
   "outputs": [
    {
     "name": "stdout",
     "output_type": "stream",
     "text": [
      "\n",
      "#####\n",
      "The following guanine nucleotide exchange factors (GEFs) were shown to bind RHOA and catalyze GDP to GTP exchange on RHOA, resulting in formation of the active RHOA:GTP complex (the high throughput st...\n",
      "AKAP13, ARHGEF1, ARHGEF2, ARHGEF5, ARHGEF11, ARHGEF12, ARHGEF17, ECT2, NGEF, VAV2 were supported by Bagci et al. 2020 for binding RHOA.\n",
      "orignal description:\n",
      "RHOAG17A interacted with the RHOAspecific GEFs ARHGEF1 (ref. 25), ARHGEF2 (ref. 26), ARHGEF5 (ref. 27), ARHGEF17 (ref. 28), NGEF29, ECT2 (ref. 30) and AKAP13 (ref.31) (Fig. 2a).\n",
      "BioID confirmed the reported broad selectivity of some GEFs as follows: VAV2 (ref. 42) for RHOA, RAC1 and CDC42; ARHGEF11 (ref.44) for RHOA, RAC1 and CDC42.\n",
      "While we found that RHOAG17A interacted with its established GEF ARHGEF12 (ref. 50), an interaction with CDC42G15A was also detected (Fig. 2a), which suggests that it may have broader activity than reported.\n",
      "#####\n",
      "\n",
      "#####\n",
      "The following guanine nucleotide exchange factors (GEFs) were shown to bind RHOA and catalyze GDP to GTP exchange on RHOA, resulting in formation of the active RHOA:GTP complex (the high throughput st...\n",
      "BCR was shown by Bagci et al. 2020 to bind to RHOA.\n",
      "orignal description:\n",
      "BCR48 for RHOA and RAC1 (Fig. 2a).\n",
      "#####\n",
      "\n",
      "#####\n",
      "The following guanine nucleotide exchange factors (GEFs) were shown to bind CDC42 and catalyze GDP to GTP exchange on CDC42, resulting in formation of the active CDC42:GTP complex (the high throughput...\n",
      "ARHGEF12: Bagci et al. 2020: binding to inactive CDC42\n",
      "orignal description:\n",
      "While we found that RHOAG17A interacted with its established GEF ARHGEF12 (ref. 50), an interaction with CDC42G15A was also detected (Fig. 2a), which suggests that it may have broader activity than reported.\n",
      "#####\n",
      "\n",
      "#####\n",
      "The following guanine nucleotide exchange factors (GEFs) were shown to bind CDC42 and catalyze GDP to GTP exchange on CDC42, resulting in formation of the active CDC42:GTP complex (the high throughput...\n",
      "ARHGEF26: Bagci et al. 2020: binding to inactive CDC42\n",
      "orignal description:\n",
      "We detected an interaction between CDC42G15A and ARHGEF26, which is believed to be a RHOG-specific GEF. Notably, the initial studies of ARHGEF26 reported activity towards CDC42 (ref. 49).\n",
      "#####\n",
      "\n"
     ]
    }
   ],
   "source": [
    "for s in summation:\n",
    "    infos=extract_relevant_information_from_summation(s,'Bagci et al. 2020')\n",
    "    for i in infos.content.split('\\n'):\n",
    "        o=scan_paragraph_for_information_match(paragragh,i).content\n",
    "        if o!=\"Null\":\n",
    "            print('#####')\n",
    "            print(s[:200]+'...')\n",
    "            print(i)\n",
    "            print('orignal description:')\n",
    "            print(o)\n",
    "            print('#####\\n')"
   ]
  }
 ],
 "metadata": {
  "kernelspec": {
   "display_name": "llm",
   "language": "python",
   "name": "python3"
  },
  "language_info": {
   "codemirror_mode": {
    "name": "ipython",
    "version": 3
   },
   "file_extension": ".py",
   "mimetype": "text/x-python",
   "name": "python",
   "nbconvert_exporter": "python",
   "pygments_lexer": "ipython3",
   "version": "3.10.13"
  }
 },
 "nbformat": 4,
 "nbformat_minor": 2
}
